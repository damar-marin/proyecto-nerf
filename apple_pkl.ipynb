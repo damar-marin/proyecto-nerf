{
  "nbformat": 4,
  "nbformat_minor": 0,
  "metadata": {
    "colab": {
      "provenance": [],
      "machine_shape": "hm",
      "gpuType": "T4"
    },
    "kernelspec": {
      "name": "python3",
      "display_name": "Python 3"
    },
    "language_info": {
      "name": "python"
    },
    "accelerator": "GPU"
  },
  "cells": [
    {
      "cell_type": "code",
      "execution_count": null,
      "metadata": {
        "colab": {
          "base_uri": "https://localhost:8080/"
        },
        "id": "hGoE53UpThyX",
        "outputId": "f1b73fe6-3bf8-4329-a7b0-4abcef65a8c8"
      },
      "outputs": [
        {
          "output_type": "stream",
          "name": "stdout",
          "text": [
            "Mounted at /content/drive/\n"
          ]
        }
      ],
      "source": [
        "from google.colab import drive\n",
        "drive.mount('/content/drive/', force_remount=True)"
      ]
    },
    {
      "cell_type": "code",
      "source": [
        "!pip install numpy==1.26.0\n",
        "!pip install pillow==10.0.1\n",
        "!pip install torch==1.13.1 torchvision functorch --extra-index-url https://download.pytorch.org/whl/cu117\n",
        "!pip install tqdm==4.66.1"
      ],
      "metadata": {
        "colab": {
          "base_uri": "https://localhost:8080/"
        },
        "id": "R3J7tssDVAof",
        "outputId": "f4e3cf90-3200-4e57-d83f-4c108d81f5e0"
      },
      "execution_count": null,
      "outputs": [
        {
          "output_type": "stream",
          "name": "stdout",
          "text": [
            "Requirement already satisfied: numpy==1.26.0 in /usr/local/lib/python3.10/dist-packages (1.26.0)\n",
            "Requirement already satisfied: pillow==10.0.1 in /usr/local/lib/python3.10/dist-packages (10.0.1)\n",
            "Looking in indexes: https://pypi.org/simple, https://download.pytorch.org/whl/cu117\n",
            "Collecting torch==1.13.1\n",
            "  Downloading https://download.pytorch.org/whl/cu117/torch-1.13.1%2Bcu117-cp310-cp310-linux_x86_64.whl (1801.8 MB)\n",
            "\u001b[2K     \u001b[90m━━━━━━━━━━━━━━━━━━━━━━━━━━━━━━━━━━━━━━━━\u001b[0m \u001b[32m1.8/1.8 GB\u001b[0m \u001b[31m1.5 MB/s\u001b[0m eta \u001b[36m0:00:00\u001b[0m\n",
            "\u001b[?25hRequirement already satisfied: torchvision in /usr/local/lib/python3.10/dist-packages (0.19.0+cu121)\n",
            "Collecting functorch\n",
            "  Downloading functorch-2.0.0-py2.py3-none-any.whl.metadata (346 bytes)\n",
            "Requirement already satisfied: typing-extensions in /usr/local/lib/python3.10/dist-packages (from torch==1.13.1) (4.12.2)\n",
            "Requirement already satisfied: numpy in /usr/local/lib/python3.10/dist-packages (from torchvision) (1.26.0)\n",
            "INFO: pip is looking at multiple versions of torchvision to determine which version is compatible with other requirements. This could take a while.\n",
            "Collecting torchvision\n",
            "  Downloading torchvision-0.19.1-cp310-cp310-manylinux1_x86_64.whl.metadata (6.0 kB)\n",
            "  Downloading torchvision-0.19.0-cp310-cp310-manylinux1_x86_64.whl.metadata (6.0 kB)\n",
            "  Downloading torchvision-0.18.1-cp310-cp310-manylinux1_x86_64.whl.metadata (6.6 kB)\n",
            "  Downloading torchvision-0.18.0-cp310-cp310-manylinux1_x86_64.whl.metadata (6.6 kB)\n",
            "  Downloading torchvision-0.17.2-cp310-cp310-manylinux1_x86_64.whl.metadata (6.6 kB)\n",
            "  Downloading torchvision-0.17.1-cp310-cp310-manylinux1_x86_64.whl.metadata (6.6 kB)\n",
            "  Downloading torchvision-0.17.0-cp310-cp310-manylinux1_x86_64.whl.metadata (6.6 kB)\n",
            "Requirement already satisfied: requests in /usr/local/lib/python3.10/dist-packages (from torchvision) (2.32.3)\n",
            "INFO: pip is still looking at multiple versions of torchvision to determine which version is compatible with other requirements. This could take a while.\n",
            "  Downloading torchvision-0.16.2-cp310-cp310-manylinux1_x86_64.whl.metadata (6.6 kB)\n",
            "  Downloading torchvision-0.16.1-cp310-cp310-manylinux1_x86_64.whl.metadata (6.6 kB)\n",
            "  Downloading torchvision-0.16.0-cp310-cp310-manylinux1_x86_64.whl.metadata (6.6 kB)\n",
            "  Downloading https://download.pytorch.org/whl/cu117/torchvision-0.15.2%2Bcu117-cp310-cp310-linux_x86_64.whl (6.1 MB)\n",
            "\u001b[2K     \u001b[90m━━━━━━━━━━━━━━━━━━━━━━━━━━━━━━━━━━━━━━━━\u001b[0m \u001b[32m6.1/6.1 MB\u001b[0m \u001b[31m34.5 MB/s\u001b[0m eta \u001b[36m0:00:00\u001b[0m\n",
            "\u001b[?25h  Downloading torchvision-0.15.2-cp310-cp310-manylinux1_x86_64.whl.metadata (11 kB)\n",
            "INFO: This is taking longer than usual. You might need to provide the dependency resolver with stricter constraints to reduce runtime. See https://pip.pypa.io/warnings/backtracking for guidance. If you want to abort this run, press Ctrl + C.\n",
            "  Downloading https://download.pytorch.org/whl/cu117/torchvision-0.15.1%2Bcu117-cp310-cp310-linux_x86_64.whl (6.1 MB)\n",
            "\u001b[2K     \u001b[90m━━━━━━━━━━━━━━━━━━━━━━━━━━━━━━━━━━━━━━━━\u001b[0m \u001b[32m6.1/6.1 MB\u001b[0m \u001b[31m103.0 MB/s\u001b[0m eta \u001b[36m0:00:00\u001b[0m\n",
            "\u001b[?25h  Downloading torchvision-0.15.1-cp310-cp310-manylinux1_x86_64.whl.metadata (11 kB)\n",
            "  Downloading https://download.pytorch.org/whl/cu117/torchvision-0.15.0%2Bcu117-cp310-cp310-linux_x86_64.whl (6.1 MB)\n",
            "\u001b[2K     \u001b[90m━━━━━━━━━━━━━━━━━━━━━━━━━━━━━━━━━━━━━━━━\u001b[0m \u001b[32m6.1/6.1 MB\u001b[0m \u001b[31m104.1 MB/s\u001b[0m eta \u001b[36m0:00:00\u001b[0m\n",
            "\u001b[?25h  Downloading https://download.pytorch.org/whl/cu117/torchvision-0.14.1%2Bcu117-cp310-cp310-linux_x86_64.whl (24.3 MB)\n",
            "\u001b[2K     \u001b[90m━━━━━━━━━━━━━━━━━━━━━━━━━━━━━━━━━━━━━━━━\u001b[0m \u001b[32m24.3/24.3 MB\u001b[0m \u001b[31m18.9 MB/s\u001b[0m eta \u001b[36m0:00:00\u001b[0m\n",
            "\u001b[?25hRequirement already satisfied: pillow!=8.3.*,>=5.3.0 in /usr/local/lib/python3.10/dist-packages (from torchvision) (10.0.1)\n",
            "INFO: pip is looking at multiple versions of functorch to determine which version is compatible with other requirements. This could take a while.\n",
            "Collecting functorch\n",
            "  Downloading functorch-1.13.1-py2.py3-none-any.whl.metadata (353 bytes)\n",
            "Requirement already satisfied: charset-normalizer<4,>=2 in /usr/local/lib/python3.10/dist-packages (from requests->torchvision) (3.3.2)\n",
            "Requirement already satisfied: idna<4,>=2.5 in /usr/local/lib/python3.10/dist-packages (from requests->torchvision) (3.8)\n",
            "Requirement already satisfied: urllib3<3,>=1.21.1 in /usr/local/lib/python3.10/dist-packages (from requests->torchvision) (2.0.7)\n",
            "Requirement already satisfied: certifi>=2017.4.17 in /usr/local/lib/python3.10/dist-packages (from requests->torchvision) (2024.8.30)\n",
            "Downloading functorch-1.13.1-py2.py3-none-any.whl (2.1 kB)\n",
            "Installing collected packages: torch, torchvision, functorch\n",
            "  Attempting uninstall: torch\n",
            "    Found existing installation: torch 2.4.0+cu121\n",
            "    Uninstalling torch-2.4.0+cu121:\n",
            "      Successfully uninstalled torch-2.4.0+cu121\n",
            "  Attempting uninstall: torchvision\n",
            "    Found existing installation: torchvision 0.19.0+cu121\n",
            "    Uninstalling torchvision-0.19.0+cu121:\n",
            "      Successfully uninstalled torchvision-0.19.0+cu121\n",
            "\u001b[31mERROR: pip's dependency resolver does not currently take into account all the packages that are installed. This behaviour is the source of the following dependency conflicts.\n",
            "torchaudio 2.4.0+cu121 requires torch==2.4.0, but you have torch 1.13.1+cu117 which is incompatible.\u001b[0m\u001b[31m\n",
            "\u001b[0mSuccessfully installed functorch-1.13.1 torch-1.13.1+cu117 torchvision-0.14.1+cu117\n",
            "Requirement already satisfied: tqdm==4.66.1 in /usr/local/lib/python3.10/dist-packages (4.66.1)\n"
          ]
        }
      ]
    },
    {
      "cell_type": "code",
      "source": [
        "#!pip install torch==2.3.1+cu118 torchvision==0.16.2+cu118 --extra-index-url https://download.pytorch.org/whl/cu118\n",
        "!pip install setuptools==69\n",
        "!pip install git+https://github.com/NVlabs/tiny-cuda-nn/#subdirectory=bindings/torch"
      ],
      "metadata": {
        "colab": {
          "base_uri": "https://localhost:8080/"
        },
        "id": "5JZDPMwKnyQv",
        "outputId": "98ca0266-c33a-4a80-b126-98ba52f0c245"
      },
      "execution_count": null,
      "outputs": [
        {
          "output_type": "stream",
          "name": "stdout",
          "text": [
            "Requirement already satisfied: setuptools==69 in /usr/local/lib/python3.10/dist-packages (69.0.0)\n",
            "Collecting git+https://github.com/NVlabs/tiny-cuda-nn/#subdirectory=bindings/torch\n",
            "  Cloning https://github.com/NVlabs/tiny-cuda-nn/ to /tmp/pip-req-build-57rigdy9\n",
            "  Running command git clone --filter=blob:none --quiet https://github.com/NVlabs/tiny-cuda-nn/ /tmp/pip-req-build-57rigdy9\n",
            "  Resolved https://github.com/NVlabs/tiny-cuda-nn/ to commit c91138bcd4c6877c8d5e60e483c0581aafc70cce\n",
            "  Running command git submodule update --init --recursive -q\n",
            "  Preparing metadata (setup.py) ... \u001b[?25l\u001b[?25hdone\n",
            "Building wheels for collected packages: tinycudann\n",
            "  \u001b[1;31merror\u001b[0m: \u001b[1msubprocess-exited-with-error\u001b[0m\n",
            "  \n",
            "  \u001b[31m×\u001b[0m \u001b[32mpython setup.py bdist_wheel\u001b[0m did not run successfully.\n",
            "  \u001b[31m│\u001b[0m exit code: \u001b[1;36m1\u001b[0m\n",
            "  \u001b[31m╰─>\u001b[0m See above for output.\n",
            "  \n",
            "  \u001b[1;35mnote\u001b[0m: This error originates from a subprocess, and is likely not a problem with pip.\n",
            "  Building wheel for tinycudann (setup.py) ... \u001b[?25lerror\n",
            "\u001b[31m  ERROR: Failed building wheel for tinycudann\u001b[0m\u001b[31m\n",
            "\u001b[0m\u001b[?25h  Running setup.py clean for tinycudann\n",
            "Failed to build tinycudann\n",
            "\u001b[31mERROR: ERROR: Failed to build installable wheels for some pyproject.toml based projects (tinycudann)\u001b[0m\u001b[31m\n",
            "\u001b[0m"
          ]
        }
      ]
    },
    {
      "cell_type": "code",
      "source": [
        "import torch\n",
        "import torch.nn as nn\n",
        "import numpy as np\n",
        "\n",
        "import os\n",
        "import imageio\n",
        "import matplotlib.pyplot as plt\n",
        "from torch.utils.data import DataLoader"
      ],
      "metadata": {
        "id": "-mTiqNqhU_zO"
      },
      "execution_count": null,
      "outputs": []
    },
    {
      "cell_type": "markdown",
      "source": [
        "dataset.py"
      ],
      "metadata": {
        "id": "Yf7HC2yLcPJ1"
      }
    },
    {
      "cell_type": "code",
      "source": [
        "import torch\n",
        "import numpy as np\n",
        "import os\n",
        "import imageio\n",
        "import matplotlib.pyplot as plt\n",
        "from torch.utils.data import DataLoader\n",
        "\n",
        "def get_rays(datapath, mode='train'):\n",
        "\n",
        "    pose_file_names = [f for f in os.listdir(datapath + f'/{mode}/pose') if f.endswith('.txt')]\n",
        "    intrisics_file_names = [f for f in os.listdir(datapath + f'/{mode}/intrinsics') if f.endswith('.txt')]\n",
        "    img_file_names = [f for f in os.listdir(datapath + '/imgs') if mode in f]\n",
        "\n",
        "    assert len(pose_file_names) == len(intrisics_file_names)\n",
        "    assert len(img_file_names) == len(pose_file_names)\n",
        "\n",
        "    # Read\n",
        "    N = len(pose_file_names)\n",
        "    poses = np.zeros((N, 4, 4))\n",
        "    intrinsics = np.zeros((N, 4, 4))\n",
        "\n",
        "    images = []\n",
        "\n",
        "    for i in range(N):\n",
        "        name = pose_file_names[i]\n",
        "\n",
        "        pose = open(datapath + f'/{mode}/pose/' + name).read().split()\n",
        "        poses[i] = np.array(pose, dtype=float).reshape(4, 4)\n",
        "\n",
        "        intrinsic = open(datapath + f'/{mode}/intrinsics/' + name).read().split()\n",
        "        intrinsics[i] = np.array(intrinsic, dtype=float).reshape(4, 4)\n",
        "\n",
        "        # Read images\n",
        "        img = imageio.imread(datapath + '/imgs/' + name.replace('txt', 'png')) / 255.\n",
        "        images.append(img[None, ...])\n",
        "    images = np.concatenate(images)\n",
        "\n",
        "    H = images.shape[1]\n",
        "    W = images.shape[2]\n",
        "\n",
        "    if images.shape[3] == 4: #RGBA -> RGB\n",
        "        images = images[..., :3] * images[..., -1:] + (1 - images[..., -1:])\n",
        "\n",
        "    rays_o = np.zeros((N, H*W, 3))\n",
        "    rays_d = np.zeros((N, H*W, 3))\n",
        "    target_px_values = images.reshape((N, H*W, 3))\n",
        "\n",
        "    for i in range(N):\n",
        "\n",
        "        c2w = poses[i]\n",
        "        f = intrinsics[i, 0, 0]\n",
        "\n",
        "        u = np.arange(W)\n",
        "        v = np.arange(H)\n",
        "        u, v = np.meshgrid(u, v)\n",
        "        dirs = np.stack((u - W / 2, -(v - H / 2), - np.ones_like(u) * f), axis=-1)\n",
        "        dirs = (c2w[:3, :3] @ dirs[..., None]).squeeze(-1)\n",
        "        dirs = dirs / np.linalg.norm(dirs, axis=-1, keepdims=True)\n",
        "\n",
        "        rays_d[i] = dirs.reshape(-1, 3)\n",
        "        rays_o[i] += c2w[:3, 3]\n",
        "\n",
        "    return rays_o, rays_d, target_px_values"
      ],
      "metadata": {
        "id": "vQEXpohncJPA"
      },
      "execution_count": null,
      "outputs": []
    },
    {
      "cell_type": "markdown",
      "source": [
        "rendering.py"
      ],
      "metadata": {
        "id": "RIMR-402ce3u"
      }
    },
    {
      "cell_type": "code",
      "source": [
        "import torch\n",
        "\n",
        "def compute_accumulated_transmittance(betas):\n",
        "    accumulated_transmittance = torch.cumprod(betas, 1)\n",
        "    return torch.cat((torch.ones(accumulated_transmittance.shape[0], 1, device=accumulated_transmittance.device),\n",
        "                      accumulated_transmittance[:, :-1]), dim=1)\n",
        "\n",
        "def rendering(model, rays_o, rays_d, tn, tf, nb_bins=100, device='cpu', white_bckgr=True):\n",
        "\n",
        "    t = torch.linspace(tn, tf, nb_bins).to(device) # [nb_bins]\n",
        "    delta = torch.cat((t[1:] - t[:-1], torch.tensor([1e10], device=device)))\n",
        "\n",
        "    x = rays_o.unsqueeze(1) + t.unsqueeze(0).unsqueeze(-1) * rays_d.unsqueeze(1) # [nb_rays, nb_bins, 3]\n",
        "\n",
        "    colors, density = model.intersect(x.reshape(-1, 3), rays_d.expand(x.shape[1], x.shape[0], 3).transpose(0, 1).reshape(-1, 3))\n",
        "\n",
        "    colors = colors.reshape((x.shape[0], nb_bins, 3)) # [nb_rays, nb_bins, 3]\n",
        "    density = density.reshape((x.shape[0], nb_bins))\n",
        "\n",
        "    alpha = 1 - torch.exp(- density * delta.unsqueeze(0)) # [nb_rays, nb_bins, 1]\n",
        "\n",
        "    weights = compute_accumulated_transmittance(1 - alpha) * alpha # [nb_rays, nb_bins]\n",
        "\n",
        "    if white_bckgr:\n",
        "        c = (weights.unsqueeze(-1) * colors).sum(1) # [nb_rays, 3]\n",
        "        weight_sum = weights.sum(-1) # [nb_rays]\n",
        "        return c + 1 - weight_sum.unsqueeze(-1)\n",
        "    else:\n",
        "        c = (weights.unsqueeze(-1) * colors).sum(1) # [nb_rays, 3]\n",
        "\n",
        "    return c"
      ],
      "metadata": {
        "id": "vrV7hr-GcgpF"
      },
      "execution_count": null,
      "outputs": []
    },
    {
      "cell_type": "markdown",
      "source": [
        "model.py"
      ],
      "metadata": {
        "id": "nbi9cC2xck1q"
      }
    },
    {
      "cell_type": "code",
      "source": [
        "import torch\n",
        "import torch.nn as nn\n",
        "\n",
        "class Voxels(nn.Module):\n",
        "\n",
        "    def __init__(self, nb_voxels=100, scale=1, device='cpu'):\n",
        "        super(Voxels, self).__init__()\n",
        "\n",
        "        self.voxels = torch.nn.Parameter(torch.rand((nb_voxels, nb_voxels, nb_voxels, 4),\n",
        "                                                    device=device, requires_grad=True))\n",
        "\n",
        "        self.nb_voxels = nb_voxels\n",
        "        self.device = device\n",
        "        self.scale = scale\n",
        "\n",
        "    def forward(self, xyz, d):\n",
        "\n",
        "        x = xyz[:, 0]\n",
        "        y = xyz[:, 1]\n",
        "        z = xyz[:, 2]\n",
        "\n",
        "        cond = (x.abs() < (self.scale / 2)) & (y.abs() < (self.scale / 2)) & (z.abs() < (self.scale / 2))\n",
        "\n",
        "        indx = (x[cond] / (self.scale / self.nb_voxels) + self.nb_voxels / 2).type(torch.long)\n",
        "        indy = (y[cond] / (self.scale / self.nb_voxels) + self.nb_voxels / 2).type(torch.long)\n",
        "        indz = (z[cond] / (self.scale / self.nb_voxels) + self.nb_voxels / 2).type(torch.long)\n",
        "\n",
        "        colors_and_densities = torch.zeros((xyz.shape[0], 4), device=xyz.device)\n",
        "        colors_and_densities[cond, :3] = self.voxels[indx, indy, indz, :3]\n",
        "        colors_and_densities[cond, -1] = self.voxels[indx, indy, indz, -1]\n",
        "\n",
        "        return torch.sigmoid(colors_and_densities[:, :3]), torch.relu(colors_and_densities[:, -1:])\n",
        "\n",
        "\n",
        "    def intersect(self, x, d):\n",
        "        return self.forward(x, d)\n",
        "\n",
        "\n",
        "class Nerf(nn.Module):\n",
        "\n",
        "    def __init__(self, Lpos=10, Ldir=4, hidden_dim=256):\n",
        "        super(Nerf, self).__init__()\n",
        "\n",
        "        self.block1 = nn.Sequential(nn.Linear(Lpos * 6 + 3, hidden_dim), nn.ReLU(),\n",
        "                                    nn.Linear(hidden_dim, hidden_dim), nn.ReLU(),\n",
        "                                    nn.Linear(hidden_dim, hidden_dim), nn.ReLU(),\n",
        "                                    nn.Linear(hidden_dim, hidden_dim), nn.ReLU(),\n",
        "                                    nn.Linear(hidden_dim, hidden_dim), nn.ReLU())\n",
        "\n",
        "        self.block2 = nn.Sequential(nn.Linear(hidden_dim + Lpos * 6 + 3, hidden_dim), nn.ReLU(),\n",
        "                                    nn.Linear(hidden_dim, hidden_dim), nn.ReLU(),\n",
        "                                    nn.Linear(hidden_dim, hidden_dim), nn.ReLU(),\n",
        "                                    nn.Linear(hidden_dim, hidden_dim + 1),)\n",
        "\n",
        "        self.rgb_head = nn.Sequential(nn.Linear(hidden_dim + Ldir * 6 + 3, hidden_dim // 2), nn.ReLU(),\n",
        "                                      nn.Linear(hidden_dim // 2, 3), nn.Sigmoid())\n",
        "\n",
        "        self.Lpos = Lpos\n",
        "        self.Ldir = Ldir\n",
        "\n",
        "    def positional_encoding(self, x, L):\n",
        "        out = [x]\n",
        "        for j in range(L):\n",
        "            out.append(torch.sin(2 ** j * x))\n",
        "            out.append(torch.cos(2 ** j * x))\n",
        "        return torch.cat(out, dim=1)\n",
        "\n",
        "\n",
        "\n",
        "    def forward(self, xyz, d):\n",
        "\n",
        "        x_emb = self.positional_encoding(xyz, self.Lpos) # [batch_size, Lpos * 6 + 3]\n",
        "        d_emb = self.positional_encoding(d, self.Ldir) # [batch_size, Ldir * 6 + 3]\n",
        "\n",
        "        h = self.block1(x_emb) # [batch_size, hidden_dim]\n",
        "        h = self.block2(torch.cat((h, x_emb), dim=1)) # [batch_size, hidden_dim + 1]\n",
        "        sigma = h[:, -1]\n",
        "        h = h[:, :-1] # [batch_size, hidden_dim]\n",
        "        c = self.rgb_head(torch.cat((h, d_emb), dim=1))\n",
        "\n",
        "        return c, torch.relu(sigma)\n",
        "\n",
        "\n",
        "    def intersect(self, x, d):\n",
        "        return self.forward(x, d)"
      ],
      "metadata": {
        "id": "nBCFjrb3csB7"
      },
      "execution_count": null,
      "outputs": []
    },
    {
      "cell_type": "markdown",
      "source": [
        "ml_helpers"
      ],
      "metadata": {
        "id": "ZPJFN6oww3ld"
      }
    },
    {
      "cell_type": "code",
      "source": [
        "from tqdm import tqdm\n",
        "import torch\n",
        "\n",
        "def training(model, optimizer, scheduler, tn, tf, nb_bins, nb_epochs, data_loader, device='cpu'):\n",
        "\n",
        "    training_loss = []\n",
        "    epoch_loss = []\n",
        "    for epoch in (range(nb_epochs)):\n",
        "        for batch in tqdm(data_loader):\n",
        "            o = batch[:, :3].to(device)\n",
        "            d = batch[:, 3:6].to(device)\n",
        "\n",
        "            target = batch[:, 6:].to(device)\n",
        "\n",
        "            prediction = rendering(model, o, d, tn, tf, nb_bins=nb_bins, device=device)\n",
        "\n",
        "            loss = ((prediction - target)**2).mean()\n",
        "\n",
        "            optimizer.zero_grad()\n",
        "            loss.backward()\n",
        "            optimizer.step()\n",
        "            training_loss.append(loss.item())\n",
        "\n",
        "        scheduler.step()\n",
        "\n",
        "        torch.save(model.cpu(), 'model_nerf')\n",
        "        model.to(device)\n",
        "\n",
        "    return training_loss"
      ],
      "metadata": {
        "id": "O4PStolGw4yg"
      },
      "execution_count": null,
      "outputs": []
    },
    {
      "cell_type": "markdown",
      "source": [
        "## Reconstrucción"
      ],
      "metadata": {
        "id": "oCSB-jZwxLzh"
      }
    },
    {
      "cell_type": "code",
      "source": [
        "batch_size = 1024\n",
        "\n",
        "o, d, target_px_values = get_rays('/content/drive/MyDrive/apple_render', mode='train')\n",
        "dataloader = DataLoader(torch.cat((torch.from_numpy(o).reshape(-1, 3).type(torch.float),\n",
        "                                   torch.from_numpy(d).reshape(-1, 3).type(torch.float),\n",
        "                                   torch.from_numpy(target_px_values).reshape(-1, 3).type(torch.float)), dim=1),\n",
        "                       batch_size=batch_size, shuffle=True)\n",
        "\n",
        "\n",
        "dataloader_warmup = DataLoader(torch.cat((torch.from_numpy(o).reshape(90, 400, 400, 3)[:, 100:300, 100:300, :].reshape(-1, 3).type(torch.float),\n",
        "                               torch.from_numpy(d).reshape(90, 400, 400, 3)[:, 100:300, 100:300, :].reshape(-1, 3).type(torch.float),\n",
        "                               torch.from_numpy(target_px_values).reshape(90, 400, 400, 3)[:, 100:300, 100:300, :].reshape(-1, 3).type(torch.float)), dim=1),\n",
        "                       batch_size=batch_size, shuffle=True)\n",
        "\n",
        "\n",
        "test_o, test_d, test_target_px_values = get_rays('/content/drive/MyDrive/apple_render', mode='test')"
      ],
      "metadata": {
        "colab": {
          "base_uri": "https://localhost:8080/"
        },
        "id": "038IE_SXxPtQ",
        "outputId": "1a1f2b19-d84d-465a-a178-48f17a030508"
      },
      "execution_count": null,
      "outputs": [
        {
          "output_type": "stream",
          "name": "stderr",
          "text": [
            "<ipython-input-8-251ad5c990f5>:34: DeprecationWarning: Starting with ImageIO v3 the behavior of this function will switch to that of iio.v3.imread. To keep the current behavior (and make this warning disappear) use `import imageio.v2 as imageio` or call `imageio.v2.imread` directly.\n",
            "  img = imageio.imread(datapath + '/imgs/' + name.replace('txt', 'png')) / 255.\n"
          ]
        }
      ]
    },
    {
      "cell_type": "markdown",
      "source": [
        "# Training"
      ],
      "metadata": {
        "id": "dsGiora2w6s4"
      }
    },
    {
      "cell_type": "code",
      "source": [
        "device = 'cuda'\n",
        "\n",
        "tn = 8.\n",
        "tf = 12.\n",
        "nb_epochs = 10\n",
        "lr = 1e-3\n",
        "gamma = .5\n",
        "nb_bins = 100\n",
        "\n",
        "model = Nerf(hidden_dim=128).to(device)\n",
        "optimizer = torch.optim.Adam(model.parameters(), lr=lr)\n",
        "scheduler = torch.optim.lr_scheduler.MultiStepLR(optimizer, milestones=[5, 10], gamma=gamma)\n",
        "\n",
        "\n",
        "\n",
        "training_loss = training(model, optimizer, scheduler, tn, tf, nb_bins, 1, dataloader_warmup, device=device)\n",
        "plt.plot(training_loss)\n",
        "plt.show()\n",
        "training_loss = training(model, optimizer, scheduler, tn, tf, nb_bins, nb_epochs, dataloader, device=device)\n",
        "plt.plot(training_loss)\n",
        "plt.show()"
      ],
      "metadata": {
        "colab": {
          "base_uri": "https://localhost:8080/",
          "height": 214
        },
        "id": "eFDlvdr8w9iL",
        "outputId": "683a8e65-74c0-4fd3-a167-d7f0ac131411"
      },
      "execution_count": null,
      "outputs": [
        {
          "output_type": "error",
          "ename": "NameError",
          "evalue": "name 'Nerf' is not defined",
          "traceback": [
            "\u001b[0;31m---------------------------------------------------------------------------\u001b[0m",
            "\u001b[0;31mNameError\u001b[0m                                 Traceback (most recent call last)",
            "\u001b[0;32m<ipython-input-1-55fc9082985a>\u001b[0m in \u001b[0;36m<cell line: 10>\u001b[0;34m()\u001b[0m\n\u001b[1;32m      8\u001b[0m \u001b[0mnb_bins\u001b[0m \u001b[0;34m=\u001b[0m \u001b[0;36m100\u001b[0m\u001b[0;34m\u001b[0m\u001b[0;34m\u001b[0m\u001b[0m\n\u001b[1;32m      9\u001b[0m \u001b[0;34m\u001b[0m\u001b[0m\n\u001b[0;32m---> 10\u001b[0;31m \u001b[0mmodel\u001b[0m \u001b[0;34m=\u001b[0m \u001b[0mNerf\u001b[0m\u001b[0;34m(\u001b[0m\u001b[0mhidden_dim\u001b[0m\u001b[0;34m=\u001b[0m\u001b[0;36m128\u001b[0m\u001b[0;34m)\u001b[0m\u001b[0;34m.\u001b[0m\u001b[0mto\u001b[0m\u001b[0;34m(\u001b[0m\u001b[0mdevice\u001b[0m\u001b[0;34m)\u001b[0m\u001b[0;34m\u001b[0m\u001b[0;34m\u001b[0m\u001b[0m\n\u001b[0m\u001b[1;32m     11\u001b[0m \u001b[0moptimizer\u001b[0m \u001b[0;34m=\u001b[0m \u001b[0mtorch\u001b[0m\u001b[0;34m.\u001b[0m\u001b[0moptim\u001b[0m\u001b[0;34m.\u001b[0m\u001b[0mAdam\u001b[0m\u001b[0;34m(\u001b[0m\u001b[0mmodel\u001b[0m\u001b[0;34m.\u001b[0m\u001b[0mparameters\u001b[0m\u001b[0;34m(\u001b[0m\u001b[0;34m)\u001b[0m\u001b[0;34m,\u001b[0m \u001b[0mlr\u001b[0m\u001b[0;34m=\u001b[0m\u001b[0mlr\u001b[0m\u001b[0;34m)\u001b[0m\u001b[0;34m\u001b[0m\u001b[0;34m\u001b[0m\u001b[0m\n\u001b[1;32m     12\u001b[0m \u001b[0mscheduler\u001b[0m \u001b[0;34m=\u001b[0m \u001b[0mtorch\u001b[0m\u001b[0;34m.\u001b[0m\u001b[0moptim\u001b[0m\u001b[0;34m.\u001b[0m\u001b[0mlr_scheduler\u001b[0m\u001b[0;34m.\u001b[0m\u001b[0mMultiStepLR\u001b[0m\u001b[0;34m(\u001b[0m\u001b[0moptimizer\u001b[0m\u001b[0;34m,\u001b[0m \u001b[0mmilestones\u001b[0m\u001b[0;34m=\u001b[0m\u001b[0;34m[\u001b[0m\u001b[0;36m5\u001b[0m\u001b[0;34m,\u001b[0m \u001b[0;36m10\u001b[0m\u001b[0;34m]\u001b[0m\u001b[0;34m,\u001b[0m \u001b[0mgamma\u001b[0m\u001b[0;34m=\u001b[0m\u001b[0mgamma\u001b[0m\u001b[0;34m)\u001b[0m\u001b[0;34m\u001b[0m\u001b[0;34m\u001b[0m\u001b[0m\n",
            "\u001b[0;31mNameError\u001b[0m: name 'Nerf' is not defined"
          ]
        }
      ]
    },
    {
      "cell_type": "code",
      "source": [
        "torch.save(model, 'model_nerf')"
      ],
      "metadata": {
        "id": "QirKV7ez82BI"
      },
      "execution_count": null,
      "outputs": []
    },
    {
      "cell_type": "markdown",
      "source": [
        "# Volumetric Rendering"
      ],
      "metadata": {
        "id": "_CgFrnoM1mFu"
      }
    },
    {
      "cell_type": "code",
      "source": [
        "def mse2psnr(mse):\n",
        "    return 20 * np.log10(1 / np.sqrt(mse))\n",
        "\n",
        "\n",
        "@torch.no_grad()\n",
        "def test(model, o, d, tn, tf, nb_bins=100, chunk_size=10, H=400, W=400, target=None):\n",
        "\n",
        "    o = o.chunk(chunk_size)\n",
        "    d = d.chunk(chunk_size)\n",
        "\n",
        "    image = []\n",
        "    for o_batch, d_batch in zip(o, d):\n",
        "        img_batch = rendering(model, o_batch, d_batch, tn, tf, nb_bins=nb_bins, device=o_batch.device)\n",
        "        image.append(img_batch) # N, 3\n",
        "    image = torch.cat(image)\n",
        "    image = image.reshape(H, W, 3).cpu().numpy()\n",
        "\n",
        "    if target is not None:\n",
        "        mse = ((image - target)**2).mean()\n",
        "        psnr = mse2psnr(mse)\n",
        "\n",
        "    if target is not None:\n",
        "        return image, mse, psnr\n",
        "    else:\n",
        "        return image"
      ],
      "metadata": {
        "id": "vyA4I2mn1ph2"
      },
      "execution_count": null,
      "outputs": []
    },
    {
      "cell_type": "code",
      "source": [
        "img, mse, psnr = test(model, torch.from_numpy(test_o[9]).to(device).float(), torch.from_numpy(test_d[9]).to(device).float(),\n",
        "                tn, tf, nb_bins=100, chunk_size=10, target=test_target_px_values[9].reshape(400, 400, 3))\n",
        "\n",
        "print(psnr)"
      ],
      "metadata": {
        "colab": {
          "base_uri": "https://localhost:8080/"
        },
        "id": "m7cX3Vrc1uCx",
        "outputId": "e96d2d13-15a2-4c39-8c01-bfb6edbe45d0"
      },
      "execution_count": null,
      "outputs": [
        {
          "output_type": "stream",
          "name": "stdout",
          "text": [
            "39.98407969564544\n"
          ]
        }
      ]
    },
    {
      "cell_type": "code",
      "source": [
        "plt.imshow(img)"
      ],
      "metadata": {
        "colab": {
          "base_uri": "https://localhost:8080/",
          "height": 473
        },
        "id": "C1EjK6CD2CF0",
        "outputId": "d8fdb773-8971-41fa-95dc-726d7704e1bf"
      },
      "execution_count": null,
      "outputs": [
        {
          "output_type": "execute_result",
          "data": {
            "text/plain": [
              "<matplotlib.image.AxesImage at 0x795936051a20>"
            ]
          },
          "metadata": {},
          "execution_count": 61
        },
        {
          "output_type": "display_data",
          "data": {
            "text/plain": [
              "<Figure size 640x480 with 1 Axes>"
            ],
            "image/png": "[encoded data removed]"
          },
          "metadata": {}
        }
      ]
    }
  ]
}